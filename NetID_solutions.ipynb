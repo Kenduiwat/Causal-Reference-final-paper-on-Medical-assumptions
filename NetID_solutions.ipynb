{
 "cells": [
  {
   "cell_type": "markdown",
   "id": "ae1ae3f4",
   "metadata": {},
   "source": [
    "# Question 1 (5 points)\n",
    "Estimate the intention-to-treat (ITT) effect of offering the discount on the improvement of recovery, E[Y (Z = 1)]−E[Y (Z = 0)], using a difference-in-means estimator.\n",
    "Also estimate the standard error and the asymptotic 95% confidence interval. Explain why, the ITT effect can be different from the contrast that compares outcomes\n",
    "Y\n",
    "obs of the patients who take vs. do not take physiotherapy.\n",
    "Be aware that the input data is aggregated, so you should either used weighted\n",
    "estimators (for the mean and standard error). You can use Python code for the\n",
    "computations, and in that case manually create the input dataframe from the given\n",
    "table."
   ]
  },
  {
   "cell_type": "code",
   "execution_count": 12,
   "id": "801afd7b",
   "metadata": {},
   "outputs": [
    {
     "name": "stdout",
     "output_type": "stream",
     "text": [
      "ITT Effect: 0.1899\n",
      "Standard Error: 0.0444\n",
      "95% Confidence Interval: (0.1030, 0.2769)\n"
     ]
    }
   ],
   "source": [
    "import numpy as np\n",
    "import pandas as pd\n",
    "from statsmodels.stats.proportion import proportion_confint\n",
    "\n",
    "# Create a DataFrame from the provided data\n",
    "data = {\n",
    "    'Z': [0, 0, 0, 0, 1, 1, 1, 1],\n",
    "    'Tobs': [0, 0, 1, 1, 0, 0, 1, 1],\n",
    "    'Yobs': [0, 1, 0, 1, 0, 1, 0, 1],\n",
    "    'n': [185, 123, 9, 41, 37, 20, 26, 96]\n",
    "}\n",
    "\n",
    "df = pd.DataFrame(data)\n",
    "\n",
    "# Calculate the weighted means of Yobs for Z=0 and Z=1\n",
    "mean_Yobs_0 = (df[(df['Z'] == 0)]['Yobs'] * df[(df['Z'] == 0)]['n']).sum() / df[(df['Z'] == 0)]['n'].sum()\n",
    "mean_Yobs_1 = (df[(df['Z'] == 1)]['Yobs'] * df[(df['Z'] == 1)]['n']).sum() / df[(df['Z'] == 1)]['n'].sum()\n",
    "\n",
    "# Calculate the weighted proportions of successful outcomes (Yobs=1)\n",
    "prop_Yobs_0 = (df[(df['Z'] == 0)]['Yobs'] * df[(df['Z'] == 0)]['n']).sum() / df[(df['Z'] == 0)]['n'].sum()\n",
    "prop_Yobs_1 = (df[(df['Z'] == 1)]['Yobs'] * df[(df['Z'] == 1)]['n']).sum() / df[(df['Z'] == 1)]['n'].sum()\n",
    "\n",
    "# Calculate the ITT effect as the difference in proportions\n",
    "ITT_effect = prop_Yobs_1 - prop_Yobs_0\n",
    "\n",
    "# Calculate the standard error for the ITT effect\n",
    "n1 = df[(df['Z'] == 1)]['n'].sum()\n",
    "n0 = df[(df['Z'] == 0)]['n'].sum()\n",
    "\n",
    "SE_ITT = np.sqrt(prop_Yobs_1 * (1 - prop_Yobs_1) / n1 + prop_Yobs_0 * (1 - prop_Yobs_0) / n0)\n",
    "\n",
    "# Calculate the 95% confidence interval\n",
    "conf_int = (ITT_effect - 1.96 * SE_ITT, ITT_effect + 1.96 * SE_ITT)\n",
    "\n",
    "# Print the results\n",
    "print(\"ITT Effect: {:.4f}\".format(ITT_effect))\n",
    "print(\"Standard Error: {:.4f}\".format(SE_ITT))\n",
    "print(\"95% Confidence Interval: ({:.4f}, {:.4f})\".format(conf_int[0], conf_int[1]))\n"
   ]
  },
  {
   "cell_type": "code",
   "execution_count": null,
   "id": "c60aade0",
   "metadata": {},
   "outputs": [],
   "source": []
  },
  {
   "cell_type": "markdown",
   "id": "d53663d1",
   "metadata": {},
   "source": [
    "# In plain language of this setting, and using the potential treatment notation, what are the four possible strata defined by the instrument and the treatment values?"
   ]
  },
  {
   "cell_type": "markdown",
   "id": "a7481484",
   "metadata": {},
   "source": [
    "In the context of this study, which involves surgery and physiotherapy, we can define four possible strata based on the instrument (Z, indicating the discounted physiotherapy) and the treatment status (Tobs, indicating whether the patient actually received physiotherapy). These strata help us categorize the patients into different groups for analysis:\n",
    "\n",
    "Stratum 1: No Discount (Z=0) and No Physiotherapy (Tobs=0):\n",
    "\n",
    "Patients in this group were not offered a discount on physiotherapy, and they did not receive physiotherapy. These are the patients who neither had the option of a discount nor chose to undergo physiotherapy.\n",
    "Stratum 2: No Discount (Z=0) and Physiotherapy (Tobs=1):\n",
    "\n",
    "Patients in this group were not offered a discount on physiotherapy but still chose to receive physiotherapy. They paid the standard cost for physiotherapy.\n",
    "Stratum 3: Discount (Z=1) and No Physiotherapy (Tobs=0):\n",
    "\n",
    "Patients in this group were offered a discount on physiotherapy but did not opt for physiotherapy.\n",
    "Stratum 4: Discount (Z=1) and Physiotherapy (Tobs=1):\n",
    "\n",
    "Patients in this group were both offered a discount on physiotherapy and chose to receive physiotherapy at the reduced cost.\n",
    "These strata help categorize the patients based on the instrument (discount) and their actual treatment status (whether they received physiotherapy or not). Analyzing outcomes within these strata can provide insights into the impact of the discount on patient recovery."
   ]
  },
  {
   "cell_type": "code",
   "execution_count": null,
   "id": "d0ad7643",
   "metadata": {},
   "outputs": [],
   "source": []
  },
  {
   "cell_type": "markdown",
   "id": "d9cf0bd0",
   "metadata": {},
   "source": [
    "# In plain language of this setting, and in terms of potential outcomes, state the four assumptions under which the randomizer Zi is an ”instrument”, and the local ATE is non-parametrically identified. Discuss their plausibility."
   ]
  },
  {
   "cell_type": "markdown",
   "id": "380787f6",
   "metadata": {},
   "source": [
    "n the context of this study involving surgery, physiotherapy, and potential outcomes, there are four key assumptions that, if met, make the randomizer Zi a valid \"instrument\" and allow for the non-parametric identification of the Local Average Treatment Effect (ATE). Let's discuss these assumptions and their plausibility:\n",
    "\n",
    "Relevance (First Stage):\n",
    "\n",
    "Assumption: The random assignment Zi (offering a discount on physiotherapy) has a significant impact on the actual treatment Tobs (whether the patient receives physiotherapy or not).\n",
    "Plausibility: This assumption is plausible if the assignment of the discount significantly influences the decision to receive physiotherapy. For example, if patients are more likely to choose physiotherapy when it's offered at a reduced cost, this assumption holds.\n",
    "Excludability (Second Stage):\n",
    "\n",
    "Assumption: The assignment Zi is independent of potential recovery outcomes Yobs, conditional on observed covariates (if any).\n",
    "Plausibility: This assumption assumes that the discount assignment is not influenced by factors that directly affect patient recovery. It's plausible if the random assignment was truly random and not influenced by hidden variables or confounding factors.\n",
    "Monotonicity:\n",
    "\n",
    "Assumption: There are no \"defiers\" in the population, meaning that no patient would choose physiotherapy if a discount is offered and refuse it if the standard cost is charged.\n",
    "Plausibility: Monotonicity is a challenging assumption to verify in practice. In healthcare, it's reasonable to assume that people who have the option of a discount will use it, rather than refusing treatment. However, it's not always easy to confirm this assumption.\n",
    "Common Support:\n",
    "\n",
    "Assumption: There is overlap in the assignment variable Zi for patients who received physiotherapy and those who did not, meaning that there is a range of possible discount assignments for all types of patients.\n",
    "Plausibility: Common support assumes that both treatment and control groups have some patients with and without the discount. In practice, this can be challenging if, for example, the discount is only offered to a specific subset of patients."
   ]
  },
  {
   "cell_type": "code",
   "execution_count": null,
   "id": "413c0238",
   "metadata": {},
   "outputs": [],
   "source": []
  },
  {
   "cell_type": "markdown",
   "id": "53c16f1a",
   "metadata": {},
   "source": [
    "# Which of the assumptions from the question 3 is/are enough to estimate the proportion of ”never-takers”, i.e. patients who would not take physiotherapy whether or not they had been offered the discount in this study? Under this/these assumption(s), report estimates of the proportions of the groups defined in question 2."
   ]
  },
  {
   "cell_type": "markdown",
   "id": "ca614010",
   "metadata": {},
   "source": [
    "To estimate the proportion of \"never-takers\" (patients who would not take physiotherapy regardless of whether they were offered a discount), we primarily need the Monotonicity assumption to hold. This assumption ensures that there are no \"defiers\" in the population, meaning that all patients who have the option of receiving a discount will use it, rather than refusing treatment. In this case, the never-takers are those who fall into the group where both Z=0 (no discount) and Tobs=0 (no physiotherapy). These patients are not influenced by the discount and would not take physiotherapy even if it were offered at a reduced cost.\n",
    "\n",
    "Given the Monotonicity assumption, we can estimate the proportion of never-takers as follows:\n",
    "\n",
    "Proportion of Never-Takers = P(Z=0, Tobs=0)\n",
    "\n",
    "From the provided data:\n",
    "\n",
    "P(Z=0, Tobs=0) = 185 (patients in this group) / Total patients"
   ]
  },
  {
   "cell_type": "code",
   "execution_count": null,
   "id": "dfb99e42",
   "metadata": {},
   "outputs": [],
   "source": []
  },
  {
   "cell_type": "markdown",
   "id": "570cc824",
   "metadata": {},
   "source": [
    "# Question 5 (5 points)Under assumptions from question 3, estimate the local ATE. In which group defined in question 2 is this treatment effect estimated? You can use the python function IV2SLS to provide the standard error and a 95% confidence interval for your estimate."
   ]
  },
  {
   "cell_type": "code",
   "execution_count": 14,
   "id": "f7851336",
   "metadata": {},
   "outputs": [
    {
     "name": "stdout",
     "output_type": "stream",
     "text": [
      "Collecting linearmodelsNote: you may need to restart the kernel to use updated packages.\n",
      "\n",
      "  Downloading linearmodels-5.3-cp39-cp39-win_amd64.whl (2.0 MB)\n",
      "     ---------------------------------------- 2.0/2.0 MB 616.1 kB/s eta 0:00:00\n",
      "Collecting pyhdfe>=0.1\n",
      "  Downloading pyhdfe-0.2.0-py3-none-any.whl (19 kB)\n",
      "Collecting setuptools-scm[toml]<8.0.0,>=7.0.0\n",
      "  Downloading setuptools_scm-7.1.0-py3-none-any.whl (43 kB)\n",
      "     -------------------------------------- 43.8/43.8 kB 239.9 kB/s eta 0:00:00\n",
      "Collecting Cython>=0.29.34\n",
      "  Downloading Cython-3.0.3-cp39-cp39-win_amd64.whl (2.8 MB)\n",
      "     ---------------------------------------- 2.8/2.8 MB 316.8 kB/s eta 0:00:00\n",
      "Collecting formulaic>=0.6.5\n",
      "  Downloading formulaic-0.6.6-py3-none-any.whl (91 kB)\n",
      "     -------------------------------------- 91.0/91.0 kB 576.9 kB/s eta 0:00:00\n",
      "Requirement already satisfied: scipy>=1.5.0 in c:\\users\\vkori\\anaconda3\\lib\\site-packages (from linearmodels) (1.9.1)\n",
      "Requirement already satisfied: mypy-extensions>=0.4 in c:\\users\\vkori\\anaconda3\\lib\\site-packages (from linearmodels) (0.4.3)\n",
      "Requirement already satisfied: statsmodels>=0.12.0 in c:\\users\\vkori\\anaconda3\\lib\\site-packages (from linearmodels) (0.13.2)\n",
      "Requirement already satisfied: pandas>=1.1.0 in c:\\users\\vkori\\anaconda3\\lib\\site-packages (from linearmodels) (1.4.4)\n",
      "Requirement already satisfied: numpy>=1.19.0 in c:\\users\\vkori\\anaconda3\\lib\\site-packages (from linearmodels) (1.21.5)\n",
      "Requirement already satisfied: typing-extensions>=4.2.0 in c:\\users\\vkori\\anaconda3\\lib\\site-packages (from formulaic>=0.6.5->linearmodels) (4.3.0)\n",
      "Collecting astor>=0.8\n",
      "  Downloading astor-0.8.1-py2.py3-none-any.whl (27 kB)\n",
      "Requirement already satisfied: wrapt>=1.0 in c:\\users\\vkori\\anaconda3\\lib\\site-packages (from formulaic>=0.6.5->linearmodels) (1.14.1)\n",
      "Collecting interface-meta>=1.2.0\n",
      "  Downloading interface_meta-1.3.0-py3-none-any.whl (14 kB)\n",
      "Requirement already satisfied: pytz>=2020.1 in c:\\users\\vkori\\anaconda3\\lib\\site-packages (from pandas>=1.1.0->linearmodels) (2022.1)\n",
      "Requirement already satisfied: python-dateutil>=2.8.1 in c:\\users\\vkori\\anaconda3\\lib\\site-packages (from pandas>=1.1.0->linearmodels) (2.8.2)\n",
      "Requirement already satisfied: setuptools in c:\\users\\vkori\\anaconda3\\lib\\site-packages (from setuptools-scm[toml]<8.0.0,>=7.0.0->linearmodels) (63.4.1)\n",
      "Requirement already satisfied: tomli>=1.0.0 in c:\\users\\vkori\\anaconda3\\lib\\site-packages (from setuptools-scm[toml]<8.0.0,>=7.0.0->linearmodels) (2.0.1)\n",
      "Requirement already satisfied: packaging>=20.0 in c:\\users\\vkori\\anaconda3\\lib\\site-packages (from setuptools-scm[toml]<8.0.0,>=7.0.0->linearmodels) (21.3)\n",
      "Requirement already satisfied: patsy>=0.5.2 in c:\\users\\vkori\\anaconda3\\lib\\site-packages (from statsmodels>=0.12.0->linearmodels) (0.5.2)\n",
      "Requirement already satisfied: pyparsing!=3.0.5,>=2.0.2 in c:\\users\\vkori\\anaconda3\\lib\\site-packages (from packaging>=20.0->setuptools-scm[toml]<8.0.0,>=7.0.0->linearmodels) (3.0.9)\n",
      "Requirement already satisfied: six in c:\\users\\vkori\\anaconda3\\lib\\site-packages (from patsy>=0.5.2->statsmodels>=0.12.0->linearmodels) (1.16.0)\n",
      "Installing collected packages: interface-meta, Cython, astor, setuptools-scm, pyhdfe, formulaic, linearmodels\n",
      "  Attempting uninstall: Cython\n",
      "    Found existing installation: Cython 0.29.32\n",
      "    Uninstalling Cython-0.29.32:\n",
      "      Successfully uninstalled Cython-0.29.32\n",
      "Successfully installed Cython-3.0.3 astor-0.8.1 formulaic-0.6.6 interface-meta-1.3.0 linearmodels-5.3 pyhdfe-0.2.0 setuptools-scm-7.1.0\n"
     ]
    }
   ],
   "source": [
    "pip install linearmodels"
   ]
  },
  {
   "cell_type": "code",
   "execution_count": null,
   "id": "391cb9ce",
   "metadata": {},
   "outputs": [],
   "source": [
    "from linearmodels.iv import IV2SLS\n",
    "\n",
    "# Create a DataFrame from the provided data\n",
    "data = {\n",
    "    'Z': [0, 0, 0, 0, 1, 1, 1, 1],\n",
    "    'Tobs': [0, 0, 1, 1, 0, 0, 1, 1],\n",
    "    'Yobs': [0, 1, 0, 1, 0, 1, 0, 1],\n",
    "    'n': [185, 123, 9, 41, 37, 20, 26, 96]\n",
    "}\n",
    "\n",
    "df = pd.DataFrame(data)\n",
    "\n",
    "# Define the IV model\n",
    "iv_model = IV2SLS.from_formula(\"Yobs ~ 1 + [Z ~ Tobs]\", data=df)\n",
    "\n",
    "# Estimate the local ATE\n",
    "results = iv_model.fit()\n",
    "\n",
    "# Get the local ATE, standard error, and 95% confidence interval\n",
    "local_ATE = results.params['Z']\n",
    "SE_local_ATE = results.std_errors['Z']\n",
    "conf_int_local_ATE = results.conf_int()[0]\n",
    "\n",
    "# Print the results\n",
    "print(\"Local ATE: {:.4f}\".format(local_ATE))\n",
    "print(\"Standard Error: {:.4f}\".format(SE_local_ATE))\n",
    "print(\"95% Confidence Interval: ({:.4f}, {:.4f})\".format(conf_int_local_ATE[0], conf_int_local_ATE[1]))\n"
   ]
  },
  {
   "cell_type": "code",
   "execution_count": null,
   "id": "67223f26",
   "metadata": {},
   "outputs": [],
   "source": [
    "print(\"Local ATE: {:.4f}\".format(local_ATE))"
   ]
  },
  {
   "cell_type": "code",
   "execution_count": null,
   "id": "f040c3d2",
   "metadata": {},
   "outputs": [],
   "source": []
  },
  {
   "cell_type": "code",
   "execution_count": null,
   "id": "78a1ffd4",
   "metadata": {},
   "outputs": [],
   "source": []
  },
  {
   "cell_type": "markdown",
   "id": "7eb2a802",
   "metadata": {},
   "source": [
    "# Question 6 (5 points)Discuss briefly (i) the clinical and (ii) the health policy implications of the difference between your estimates in question 5 vs. question 1."
   ]
  },
  {
   "cell_type": "markdown",
   "id": "f0fd5c2f",
   "metadata": {},
   "source": [
    "(i) Clinical Implications:\n",
    "\n",
    "Question 1 (ITT Effect): The ITT effect estimates the overall impact of offering a discount on physiotherapy on patient recovery, regardless of whether patients actually chose to take up the offer. The ITT effect provides a broad perspective on the potential benefits of making physiotherapy more accessible by reducing costs. The estimate here, based on randomized assignment, is not influenced by patient choices.\n",
    "\n",
    "Question 5 (Local ATE): The Local ATE, estimated within the group of patients who were offered a discount but still chose to receive physiotherapy, represents the impact of the discount on a specific subset of patients. This estimate is conditional on patient choice and provides insights into the treatment effect for those who decided to take up the offer.\n",
    "\n",
    "Clinical Implications Comparison: The difference between these estimates highlights the importance of patient decision-making. The ITT effect reflects the broad policy impact, while the Local ATE offers a more tailored perspective for patients who actively opted for physiotherapy. Clinically, this indicates that some patients may be highly motivated to receive physiotherapy if costs are reduced, while others may not be as influenced by the discount.\n",
    "\n",
    "(ii) Health Policy Implications:\n",
    "\n",
    "Question 1 (ITT Effect): The ITT effect is relevant for health policymakers in understanding the overall population-level impact of a policy change. In this case, it provides insight into how offering discounted physiotherapy can impact recovery outcomes for patients across the board, taking into account the entire eligible patient population.\n",
    "\n",
    "Question 5 (Local ATE): The Local ATE, focusing on the group of patients who actively sought physiotherapy with the discount, has policy implications for healthcare cost management. It suggests that offering discounts may attract patients who are highly motivated to undergo physiotherapy and potentially lead to increased healthcare utilization and costs.\n",
    "\n",
    "Health Policy Implications Comparison: Policymakers need to consider the trade-off between broad access to healthcare services and managing costs. The ITT effect provides a population-level view, while the Local ATE highlights the behavior of a specific patient subgroup. Health policy decisions should balance these insights, considering the potential demand for services and their associated costs."
   ]
  },
  {
   "cell_type": "code",
   "execution_count": null,
   "id": "cf605019",
   "metadata": {},
   "outputs": [],
   "source": []
  },
  {
   "cell_type": "code",
   "execution_count": null,
   "id": "8b2250d1",
   "metadata": {},
   "outputs": [],
   "source": []
  }
 ],
 "metadata": {
  "kernelspec": {
   "display_name": "Python 3 (ipykernel)",
   "language": "python",
   "name": "python3"
  },
  "language_info": {
   "codemirror_mode": {
    "name": "ipython",
    "version": 3
   },
   "file_extension": ".py",
   "mimetype": "text/x-python",
   "name": "python",
   "nbconvert_exporter": "python",
   "pygments_lexer": "ipython3",
   "version": "3.9.13"
  }
 },
 "nbformat": 4,
 "nbformat_minor": 5
}
